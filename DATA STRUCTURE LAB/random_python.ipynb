{
 "cells": [
  {
   "cell_type": "code",
   "execution_count": 3,
   "metadata": {},
   "outputs": [
    {
     "name": "stdout",
     "output_type": "stream",
     "text": [
      "move disk 1 from A to C\n",
      "move disk 2 from A to B\n",
      "move disk 1 from C to B\n",
      "move disk 3 from A to C\n",
      "move disk 1 from B to A\n",
      "move disk 2 from B to C\n",
      "move disk 1 from A to C\n"
     ]
    }
   ],
   "source": [
    "def toh(n,from_r,to_r,aux_r):\n",
    "    if(n>0):\n",
    "        toh(n-1,from_r,aux_r,to_r)\n",
    "        print(f\"move disk {n} from {from_r} to {to_r}\")\n",
    "        toh(n-1,aux_r,to_r,from_r)\n",
    "\n",
    "\n",
    "toh(3,'A','C','B')"
   ]
  },
  {
   "cell_type": "code",
   "execution_count": 1,
   "metadata": {},
   "outputs": [
    {
     "name": "stdout",
     "output_type": "stream",
     "text": [
      "move disk 1 from A to B\n",
      "move disk 2 from A to C\n",
      "move disk 1 from B to C\n"
     ]
    }
   ],
   "source": [
    "def toh(n,A,B,C):\n",
    "    if(n>0):\n",
    "        toh(n-1,A,C,B)\n",
    "        print(f\"move disk {n} from {A} to {C}\")\n",
    "        toh(n-1,B,A,C)\n",
    "        \n",
    "toh(2,'A','B','C')\n"
   ]
  },
  {
   "cell_type": "code",
   "execution_count": 1,
   "metadata": {},
   "outputs": [
    {
     "name": "stdout",
     "output_type": "stream",
     "text": [
      "hello\n",
      "name\n",
      "arg\n"
     ]
    }
   ],
   "source": [
    "def word(word_l):\n",
    "    s=word_l.split(\" \")\n",
    "    for i in s:\n",
    "        if (len(i)>=3):\n",
    "            print(i)\n",
    "            \n",
    "word('hello my name is arg')"
   ]
  },
  {
   "cell_type": "code",
   "execution_count": null,
   "metadata": {},
   "outputs": [],
   "source": []
  }
 ],
 "metadata": {
  "kernelspec": {
   "display_name": "Python 3",
   "language": "python",
   "name": "python3"
  },
  "language_info": {
   "codemirror_mode": {
    "name": "ipython",
    "version": 3
   },
   "file_extension": ".py",
   "mimetype": "text/x-python",
   "name": "python",
   "nbconvert_exporter": "python",
   "pygments_lexer": "ipython3",
   "version": "3.10.1"
  },
  "orig_nbformat": 4
 },
 "nbformat": 4,
 "nbformat_minor": 2
}
